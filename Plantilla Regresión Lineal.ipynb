{
 "cells": [
  {
   "cell_type": "code",
   "execution_count": 1,
   "metadata": {},
   "outputs": [],
   "source": [
    "import pandas as pd \n",
    "from sklearn.linear_model import LinearRegression"
   ]
  },
  {
   "cell_type": "code",
   "execution_count": null,
   "metadata": {},
   "outputs": [],
   "source": []
  },
  {
   "cell_type": "code",
   "execution_count": 2,
   "metadata": {},
   "outputs": [],
   "source": [
    "df = pd.read_excel(\"Desktop/Registro contenidos Marzo 8º básico.xlsx\")"
   ]
  },
  {
   "cell_type": "code",
   "execution_count": 3,
   "metadata": {
    "scrolled": true
   },
   "outputs": [
    {
     "data": {
      "text/html": [
       "<div>\n",
       "<style scoped>\n",
       "    .dataframe tbody tr th:only-of-type {\n",
       "        vertical-align: middle;\n",
       "    }\n",
       "\n",
       "    .dataframe tbody tr th {\n",
       "        vertical-align: top;\n",
       "    }\n",
       "\n",
       "    .dataframe thead th {\n",
       "        text-align: right;\n",
       "    }\n",
       "</style>\n",
       "<table border=\"1\" class=\"dataframe\">\n",
       "  <thead>\n",
       "    <tr style=\"text-align: right;\">\n",
       "      <th></th>\n",
       "      <th>FECHA</th>\n",
       "      <th>OBJETIVOS</th>\n",
       "      <th>ACTIVIDADES</th>\n",
       "      <th>HORAS DEDICADAS</th>\n",
       "      <th>AULA INVERTIDA</th>\n",
       "    </tr>\n",
       "  </thead>\n",
       "  <tbody>\n",
       "    <tr>\n",
       "      <th>0</th>\n",
       "      <td>NaN</td>\n",
       "      <td>OA 1 (7º básico): Mostrar que comprenden la ad...</td>\n",
       "      <td>Se realizan guías de  nivelación y se realiza ...</td>\n",
       "      <td>NaN</td>\n",
       "      <td>NO</td>\n",
       "    </tr>\n",
       "    <tr>\n",
       "      <th>1</th>\n",
       "      <td>NaN</td>\n",
       "      <td>OA 2/ nivel 2: Utilizar las operaciones de mul...</td>\n",
       "      <td>Se realizan guías de estudio su respectiva re...</td>\n",
       "      <td>NaN</td>\n",
       "      <td>NO</td>\n",
       "    </tr>\n",
       "    <tr>\n",
       "      <th>2</th>\n",
       "      <td>NaN</td>\n",
       "      <td>OA 5/ Nivel2: Resolver problemas que involucra...</td>\n",
       "      <td>NaN</td>\n",
       "      <td>NaN</td>\n",
       "      <td>NO</td>\n",
       "    </tr>\n",
       "    <tr>\n",
       "      <th>3</th>\n",
       "      <td>NaN</td>\n",
       "      <td>NaN</td>\n",
       "      <td>NaN</td>\n",
       "      <td>3.0</td>\n",
       "      <td>NO</td>\n",
       "    </tr>\n",
       "    <tr>\n",
       "      <th>4</th>\n",
       "      <td>NaN</td>\n",
       "      <td>NaN</td>\n",
       "      <td>NaN</td>\n",
       "      <td>3.0</td>\n",
       "      <td>NO</td>\n",
       "    </tr>\n",
       "    <tr>\n",
       "      <th>5</th>\n",
       "      <td>NaN</td>\n",
       "      <td>NaN</td>\n",
       "      <td>NaN</td>\n",
       "      <td>3.0</td>\n",
       "      <td>NO</td>\n",
       "    </tr>\n",
       "    <tr>\n",
       "      <th>6</th>\n",
       "      <td>NaN</td>\n",
       "      <td>NaN</td>\n",
       "      <td>NaN</td>\n",
       "      <td>3.0</td>\n",
       "      <td>NO</td>\n",
       "    </tr>\n",
       "    <tr>\n",
       "      <th>7</th>\n",
       "      <td>NaN</td>\n",
       "      <td>NaN</td>\n",
       "      <td>NaN</td>\n",
       "      <td>3.0</td>\n",
       "      <td>NO</td>\n",
       "    </tr>\n",
       "  </tbody>\n",
       "</table>\n",
       "</div>"
      ],
      "text/plain": [
       "   FECHA                                          OBJETIVOS  \\\n",
       "0    NaN  OA 1 (7º básico): Mostrar que comprenden la ad...   \n",
       "1    NaN  OA 2/ nivel 2: Utilizar las operaciones de mul...   \n",
       "2    NaN  OA 5/ Nivel2: Resolver problemas que involucra...   \n",
       "3    NaN                                                NaN   \n",
       "4    NaN                                                NaN   \n",
       "5    NaN                                                NaN   \n",
       "6    NaN                                                NaN   \n",
       "7    NaN                                                NaN   \n",
       "\n",
       "                                         ACTIVIDADES  HORAS DEDICADAS  \\\n",
       "0  Se realizan guías de  nivelación y se realiza ...              NaN   \n",
       "1   Se realizan guías de estudio su respectiva re...              NaN   \n",
       "2                                                NaN              NaN   \n",
       "3                                                NaN              3.0   \n",
       "4                                                NaN              3.0   \n",
       "5                                                NaN              3.0   \n",
       "6                                                NaN              3.0   \n",
       "7                                                NaN              3.0   \n",
       "\n",
       "  AULA INVERTIDA  \n",
       "0             NO  \n",
       "1             NO  \n",
       "2             NO  \n",
       "3             NO  \n",
       "4             NO  \n",
       "5             NO  \n",
       "6             NO  \n",
       "7             NO  "
      ]
     },
     "execution_count": 3,
     "metadata": {},
     "output_type": "execute_result"
    }
   ],
   "source": [
    "df"
   ]
  },
  {
   "cell_type": "code",
   "execution_count": 25,
   "metadata": {
    "scrolled": true
   },
   "outputs": [
    {
     "data": {
      "text/plain": [
       "<AxesSubplot:xlabel='Altura', ylabel='Peso'>"
      ]
     },
     "execution_count": 25,
     "metadata": {},
     "output_type": "execute_result"
    },
    {
     "data": {
      "image/png": "[encoded data removed]",
      "text/plain": [
       "<Figure size 432x288 with 1 Axes>"
      ]
     },
     "metadata": {
      "needs_background": "light"
     },
     "output_type": "display_data"
    }
   ],
   "source": [
    "df.plot.scatter(x=\"Altura\", y=\"Peso\")"
   ]
  },
  {
   "cell_type": "code",
   "execution_count": 5,
   "metadata": {},
   "outputs": [
    {
     "data": {
      "text/plain": [
       "LinearRegression()"
      ]
     },
     "execution_count": 5,
     "metadata": {},
     "output_type": "execute_result"
    }
   ],
   "source": [
    "# @title Creando la regresión \n",
    "reg = LinearRegression()\n",
    "reg.fit(df[[\"Altura\"]], df[\"Peso\"]) # definimos nuestra variable independiente y dependiente"
   ]
  },
  {
   "cell_type": "code",
   "execution_count": 7,
   "metadata": {},
   "outputs": [
    {
     "data": {
      "text/plain": [
       "array([39.88777429, 88.71222571])"
      ]
     },
     "execution_count": 7,
     "metadata": {},
     "output_type": "execute_result"
    }
   ],
   "source": [
    "reg.predict([[1.40],[1.90]]) # colocando los parametros que quiero predecir en mi regresión y=mx + b "
   ]
  },
  {
   "cell_type": "code",
   "execution_count": 8,
   "metadata": {},
   "outputs": [
    {
     "name": "stdout",
     "output_type": "stream",
     "text": [
      "la línea intersecta en : -96.82068965517239 y tiene una pendiente de [97.64890282]\n"
     ]
    }
   ],
   "source": [
    "# @title Verificando con la ecuación de la recta **y** = mx+b \n",
    "print(f\"la línea intersecta en : {reg.intercept_} y tiene una pendiente de { reg.coef_}\")"
   ]
  },
  {
   "cell_type": "code",
   "execution_count": 9,
   "metadata": {},
   "outputs": [
    {
     "data": {
      "text/plain": [
       "0    46.723197\n",
       "1    49.652665\n",
       "2    54.535110\n",
       "3    59.417555\n",
       "4    62.347022\n",
       "5    67.229467\n",
       "6    72.111912\n",
       "7    74.064890\n",
       "8    76.994357\n",
       "9    79.923824\n",
       "Name: Altura, dtype: float64"
      ]
     },
     "execution_count": 9,
     "metadata": {},
     "output_type": "execute_result"
    }
   ],
   "source": [
    "reg.coef_ * df[\"Altura\"] + reg.intercept_ # calculando la ecuación de la recta sustituyendo los valores, es decir realizando la predicción de peso por cada altura dada y luego lo comparamos con los datos originales"
   ]
  },
  {
   "cell_type": "code",
   "execution_count": 11,
   "metadata": {},
   "outputs": [],
   "source": [
    "pred = pd.Series(reg.predict(df[[\"Altura\"]])) # podemos hacer lo anterior con este código y nos ahorramos el paso matemático"
   ]
  },
  {
   "cell_type": "code",
   "execution_count": 12,
   "metadata": {},
   "outputs": [
    {
     "data": {
      "text/plain": [
       "0    46.723197\n",
       "1    49.652665\n",
       "2    54.535110\n",
       "3    59.417555\n",
       "4    62.347022\n",
       "5    67.229467\n",
       "6    72.111912\n",
       "7    74.064890\n",
       "8    76.994357\n",
       "9    79.923824\n",
       "dtype: float64"
      ]
     },
     "execution_count": 12,
     "metadata": {},
     "output_type": "execute_result"
    }
   ],
   "source": [
    "pred"
   ]
  },
  {
   "cell_type": "markdown",
   "metadata": {},
   "source": [
    "# Gráfico Regresión Lineal"
   ]
  },
  {
   "cell_type": "code",
   "execution_count": 14,
   "metadata": {},
   "outputs": [],
   "source": [
    "df[\"prediccion\"] = pred # agregamos a nuestro dataframe la predicción"
   ]
  },
  {
   "cell_type": "code",
   "execution_count": 15,
   "metadata": {},
   "outputs": [
    {
     "data": {
      "text/html": [
       "<div>\n",
       "<style scoped>\n",
       "    .dataframe tbody tr th:only-of-type {\n",
       "        vertical-align: middle;\n",
       "    }\n",
       "\n",
       "    .dataframe tbody tr th {\n",
       "        vertical-align: top;\n",
       "    }\n",
       "\n",
       "    .dataframe thead th {\n",
       "        text-align: right;\n",
       "    }\n",
       "</style>\n",
       "<table border=\"1\" class=\"dataframe\">\n",
       "  <thead>\n",
       "    <tr style=\"text-align: right;\">\n",
       "      <th></th>\n",
       "      <th>Altura</th>\n",
       "      <th>Peso</th>\n",
       "      <th>prediccion</th>\n",
       "    </tr>\n",
       "  </thead>\n",
       "  <tbody>\n",
       "    <tr>\n",
       "      <th>0</th>\n",
       "      <td>1.47</td>\n",
       "      <td>45</td>\n",
       "      <td>46.723197</td>\n",
       "    </tr>\n",
       "    <tr>\n",
       "      <th>1</th>\n",
       "      <td>1.50</td>\n",
       "      <td>53</td>\n",
       "      <td>49.652665</td>\n",
       "    </tr>\n",
       "    <tr>\n",
       "      <th>2</th>\n",
       "      <td>1.55</td>\n",
       "      <td>55</td>\n",
       "      <td>54.535110</td>\n",
       "    </tr>\n",
       "    <tr>\n",
       "      <th>3</th>\n",
       "      <td>1.60</td>\n",
       "      <td>61</td>\n",
       "      <td>59.417555</td>\n",
       "    </tr>\n",
       "    <tr>\n",
       "      <th>4</th>\n",
       "      <td>1.63</td>\n",
       "      <td>59</td>\n",
       "      <td>62.347022</td>\n",
       "    </tr>\n",
       "    <tr>\n",
       "      <th>5</th>\n",
       "      <td>1.68</td>\n",
       "      <td>66</td>\n",
       "      <td>67.229467</td>\n",
       "    </tr>\n",
       "    <tr>\n",
       "      <th>6</th>\n",
       "      <td>1.73</td>\n",
       "      <td>70</td>\n",
       "      <td>72.111912</td>\n",
       "    </tr>\n",
       "    <tr>\n",
       "      <th>7</th>\n",
       "      <td>1.75</td>\n",
       "      <td>75</td>\n",
       "      <td>74.064890</td>\n",
       "    </tr>\n",
       "    <tr>\n",
       "      <th>8</th>\n",
       "      <td>1.78</td>\n",
       "      <td>76</td>\n",
       "      <td>76.994357</td>\n",
       "    </tr>\n",
       "    <tr>\n",
       "      <th>9</th>\n",
       "      <td>1.81</td>\n",
       "      <td>83</td>\n",
       "      <td>79.923824</td>\n",
       "    </tr>\n",
       "  </tbody>\n",
       "</table>\n",
       "</div>"
      ],
      "text/plain": [
       "   Altura  Peso  prediccion\n",
       "0    1.47    45   46.723197\n",
       "1    1.50    53   49.652665\n",
       "2    1.55    55   54.535110\n",
       "3    1.60    61   59.417555\n",
       "4    1.63    59   62.347022\n",
       "5    1.68    66   67.229467\n",
       "6    1.73    70   72.111912\n",
       "7    1.75    75   74.064890\n",
       "8    1.78    76   76.994357\n",
       "9    1.81    83   79.923824"
      ]
     },
     "execution_count": 15,
     "metadata": {},
     "output_type": "execute_result"
    }
   ],
   "source": [
    "df"
   ]
  },
  {
   "cell_type": "code",
   "execution_count": 21,
   "metadata": {},
   "outputs": [
    {
     "data": {
      "text/plain": [
       "<AxesSubplot:xlabel='Altura', ylabel='Peso'>"
      ]
     },
     "execution_count": 21,
     "metadata": {},
     "output_type": "execute_result"
    },
    {
     "data": {
      "image/png": "[encoded data removed]",
      "text/plain": [
       "<Figure size 864x504 with 1 Axes>"
      ]
     },
     "metadata": {
      "needs_background": "light"
     },
     "output_type": "display_data"
    }
   ],
   "source": [
    "ax = df.plot.line(x=\"Altura\", y=\"prediccion\")\n",
    "df.plot.scatter(x=\"Altura\", y=\"Peso\", ax= ax, color=\"red\", figsize=(12,7))"
   ]
  },
  {
   "cell_type": "code",
   "execution_count": null,
   "metadata": {},
   "outputs": [],
   "source": []
  },
  {
   "cell_type": "code",
   "execution_count": null,
   "metadata": {},
   "outputs": [],
   "source": []
  }
 ],
 "metadata": {
  "kernelspec": {
   "display_name": "Python 3",
   "language": "python",
   "name": "python3"
  },
  "language_info": {
   "codemirror_mode": {
    "name": "ipython",
    "version": 3
   },
   "file_extension": ".py",
   "mimetype": "text/x-python",
   "name": "python",
   "nbconvert_exporter": "python",
   "pygments_lexer": "ipython3",
   "version": "3.8.3"
  }
 },
 "nbformat": 4,
 "nbformat_minor": 4
}
